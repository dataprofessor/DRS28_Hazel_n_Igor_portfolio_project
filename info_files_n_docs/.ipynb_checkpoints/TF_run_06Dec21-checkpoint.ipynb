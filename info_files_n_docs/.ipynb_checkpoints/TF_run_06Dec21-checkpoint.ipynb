{
 "cells": [
  {
   "cell_type": "code",
   "execution_count": 2,
   "id": "1479a2c2",
   "metadata": {},
   "outputs": [
    {
     "ename": "ImportError",
     "evalue": "\n\nIMPORTANT: PLEASE READ THIS FOR ADVICE ON HOW TO SOLVE THIS ISSUE!\n\nImporting the numpy C-extensions failed. This error can happen for\nmany reasons, often due to issues with your setup or how NumPy was\ninstalled.\n\nWe have compiled some common reasons and troubleshooting tips at:\n\n    https://numpy.org/devdocs/user/troubleshooting-importerror.html\n\nPlease note and check the following:\n\n  * The Python version is: Python3.9 from \"/Users/hazelwat/miniforge3/envs/pyAIsense/bin/python\"\n  * The NumPy version is: \"1.19.5\"\n\nand make sure that they are the versions you expect.\nPlease carefully study the documentation linked above for further help.\n\nOriginal error was: dlopen(/Users/hazelwat/miniforge3/envs/pyAIsense/lib/python3.9/site-packages/numpy/core/_multiarray_umath.cpython-39-darwin.so, 0x0002): Library not loaded: @rpath/libcblas.3.dylib\n  Referenced from: /Users/hazelwat/miniforge3/envs/pyAIsense/lib/python3.9/site-packages/numpy/core/_multiarray_umath.cpython-39-darwin.so\n  Reason: tried: '/Users/hazelwat/miniforge3/envs/pyAIsense/lib/libcblas.3.dylib' (no such file), '/Users/hazelwat/miniforge3/envs/pyAIsense/lib/libcblas.3.dylib' (no such file), '/Users/hazelwat/miniforge3/envs/pyAIsense/lib/python3.9/site-packages/numpy/core/../../../../libcblas.3.dylib' (no such file), '/Users/hazelwat/miniforge3/envs/pyAIsense/lib/libcblas.3.dylib' (no such file), '/Users/hazelwat/miniforge3/envs/pyAIsense/lib/libcblas.3.dylib' (no such file), '/Users/hazelwat/miniforge3/envs/pyAIsense/lib/python3.9/site-packages/numpy/core/../../../../libcblas.3.dylib' (no such file), '/Users/hazelwat/miniforge3/envs/pyAIsense/lib/libcblas.3.dylib' (no such file), '/Users/hazelwat/miniforge3/envs/pyAIsense/bin/../lib/libcblas.3.dylib' (no such file), '/Users/hazelwat/miniforge3/envs/pyAIsense/lib/libcblas.3.dylib' (no such file), '/Users/hazelwat/miniforge3/envs/pyAIsense/bin/../lib/libcblas.3.dylib' (no such file), '/usr/local/lib/libcblas.3.dylib' (no such file), '/usr/lib/libcblas.3.dylib' (no such file)\n",
     "output_type": "error",
     "traceback": [
      "\u001b[0;31m---------------------------------------------------------------------------\u001b[0m",
      "\u001b[0;31mImportError\u001b[0m                               Traceback (most recent call last)",
      "\u001b[0;32m~/miniforge3/envs/pyAIsense/lib/python3.9/site-packages/numpy/core/__init__.py\u001b[0m in \u001b[0;36m<module>\u001b[0;34m\u001b[0m\n\u001b[1;32m     21\u001b[0m \u001b[0;32mtry\u001b[0m\u001b[0;34m:\u001b[0m\u001b[0;34m\u001b[0m\u001b[0;34m\u001b[0m\u001b[0m\n\u001b[0;32m---> 22\u001b[0;31m     \u001b[0;32mfrom\u001b[0m \u001b[0;34m.\u001b[0m \u001b[0;32mimport\u001b[0m \u001b[0mmultiarray\u001b[0m\u001b[0;34m\u001b[0m\u001b[0;34m\u001b[0m\u001b[0m\n\u001b[0m\u001b[1;32m     23\u001b[0m \u001b[0;32mexcept\u001b[0m \u001b[0mImportError\u001b[0m \u001b[0;32mas\u001b[0m \u001b[0mexc\u001b[0m\u001b[0;34m:\u001b[0m\u001b[0;34m\u001b[0m\u001b[0;34m\u001b[0m\u001b[0m\n",
      "\u001b[0;32m~/miniforge3/envs/pyAIsense/lib/python3.9/site-packages/numpy/core/multiarray.py\u001b[0m in \u001b[0;36m<module>\u001b[0;34m\u001b[0m\n\u001b[1;32m     11\u001b[0m \u001b[0;34m\u001b[0m\u001b[0m\n\u001b[0;32m---> 12\u001b[0;31m \u001b[0;32mfrom\u001b[0m \u001b[0;34m.\u001b[0m \u001b[0;32mimport\u001b[0m \u001b[0moverrides\u001b[0m\u001b[0;34m\u001b[0m\u001b[0;34m\u001b[0m\u001b[0m\n\u001b[0m\u001b[1;32m     13\u001b[0m \u001b[0;32mfrom\u001b[0m \u001b[0;34m.\u001b[0m \u001b[0;32mimport\u001b[0m \u001b[0m_multiarray_umath\u001b[0m\u001b[0;34m\u001b[0m\u001b[0;34m\u001b[0m\u001b[0m\n",
      "\u001b[0;32m~/miniforge3/envs/pyAIsense/lib/python3.9/site-packages/numpy/core/overrides.py\u001b[0m in \u001b[0;36m<module>\u001b[0;34m\u001b[0m\n\u001b[1;32m      6\u001b[0m \u001b[0;34m\u001b[0m\u001b[0m\n\u001b[0;32m----> 7\u001b[0;31m from numpy.core._multiarray_umath import (\n\u001b[0m\u001b[1;32m      8\u001b[0m     add_docstring, implement_array_function, _get_implementing_args)\n",
      "\u001b[0;31mImportError\u001b[0m: dlopen(/Users/hazelwat/miniforge3/envs/pyAIsense/lib/python3.9/site-packages/numpy/core/_multiarray_umath.cpython-39-darwin.so, 0x0002): Library not loaded: @rpath/libcblas.3.dylib\n  Referenced from: /Users/hazelwat/miniforge3/envs/pyAIsense/lib/python3.9/site-packages/numpy/core/_multiarray_umath.cpython-39-darwin.so\n  Reason: tried: '/Users/hazelwat/miniforge3/envs/pyAIsense/lib/libcblas.3.dylib' (no such file), '/Users/hazelwat/miniforge3/envs/pyAIsense/lib/libcblas.3.dylib' (no such file), '/Users/hazelwat/miniforge3/envs/pyAIsense/lib/python3.9/site-packages/numpy/core/../../../../libcblas.3.dylib' (no such file), '/Users/hazelwat/miniforge3/envs/pyAIsense/lib/libcblas.3.dylib' (no such file), '/Users/hazelwat/miniforge3/envs/pyAIsense/lib/libcblas.3.dylib' (no such file), '/Users/hazelwat/miniforge3/envs/pyAIsense/lib/python3.9/site-packages/numpy/core/../../../../libcblas.3.dylib' (no such file), '/Users/hazelwat/miniforge3/envs/pyAIsense/lib/libcblas.3.dylib' (no such file), '/Users/hazelwat/miniforge3/envs/pyAIsense/bin/../lib/libcblas.3.dylib' (no such file), '/Users/hazelwat/miniforge3/envs/pyAIsense/lib/libcblas.3.dylib' (no such file), '/Users/hazelwat/miniforge3/envs/pyAIsense/bin/../lib/libcblas.3.dylib' (no such file), '/usr/local/lib/libcblas.3.dylib' (no such file), '/usr/lib/libcblas.3.dylib' (no such file)",
      "\nDuring handling of the above exception, another exception occurred:\n",
      "\u001b[0;31mImportError\u001b[0m                               Traceback (most recent call last)",
      "\u001b[0;32m/var/folders/1d/z5ds815j0gsdrmjx1tx0mpj40000gn/T/ipykernel_9509/3593848235.py\u001b[0m in \u001b[0;36m<module>\u001b[0;34m\u001b[0m\n\u001b[0;32m----> 1\u001b[0;31m \u001b[0;32mimport\u001b[0m \u001b[0mnumpy\u001b[0m \u001b[0;32mas\u001b[0m \u001b[0mnp\u001b[0m\u001b[0;34m\u001b[0m\u001b[0;34m\u001b[0m\u001b[0m\n\u001b[0m",
      "\u001b[0;32m~/miniforge3/envs/pyAIsense/lib/python3.9/site-packages/numpy/__init__.py\u001b[0m in \u001b[0;36m<module>\u001b[0;34m\u001b[0m\n\u001b[1;32m    138\u001b[0m     \u001b[0;32mfrom\u001b[0m \u001b[0;34m.\u001b[0m \u001b[0;32mimport\u001b[0m \u001b[0m_distributor_init\u001b[0m\u001b[0;34m\u001b[0m\u001b[0;34m\u001b[0m\u001b[0m\n\u001b[1;32m    139\u001b[0m \u001b[0;34m\u001b[0m\u001b[0m\n\u001b[0;32m--> 140\u001b[0;31m     \u001b[0;32mfrom\u001b[0m \u001b[0;34m.\u001b[0m \u001b[0;32mimport\u001b[0m \u001b[0mcore\u001b[0m\u001b[0;34m\u001b[0m\u001b[0;34m\u001b[0m\u001b[0m\n\u001b[0m\u001b[1;32m    141\u001b[0m     \u001b[0;32mfrom\u001b[0m \u001b[0;34m.\u001b[0m\u001b[0mcore\u001b[0m \u001b[0;32mimport\u001b[0m \u001b[0;34m*\u001b[0m\u001b[0;34m\u001b[0m\u001b[0;34m\u001b[0m\u001b[0m\n\u001b[1;32m    142\u001b[0m     \u001b[0;32mfrom\u001b[0m \u001b[0;34m.\u001b[0m \u001b[0;32mimport\u001b[0m \u001b[0mcompat\u001b[0m\u001b[0;34m\u001b[0m\u001b[0;34m\u001b[0m\u001b[0m\n",
      "\u001b[0;32m~/miniforge3/envs/pyAIsense/lib/python3.9/site-packages/numpy/core/__init__.py\u001b[0m in \u001b[0;36m<module>\u001b[0;34m\u001b[0m\n\u001b[1;32m     46\u001b[0m \"\"\" % (sys.version_info[0], sys.version_info[1], sys.executable,\n\u001b[1;32m     47\u001b[0m         __version__, exc)\n\u001b[0;32m---> 48\u001b[0;31m     \u001b[0;32mraise\u001b[0m \u001b[0mImportError\u001b[0m\u001b[0;34m(\u001b[0m\u001b[0mmsg\u001b[0m\u001b[0;34m)\u001b[0m\u001b[0;34m\u001b[0m\u001b[0;34m\u001b[0m\u001b[0m\n\u001b[0m\u001b[1;32m     49\u001b[0m \u001b[0;32mfinally\u001b[0m\u001b[0;34m:\u001b[0m\u001b[0;34m\u001b[0m\u001b[0;34m\u001b[0m\u001b[0m\n\u001b[1;32m     50\u001b[0m     \u001b[0;32mfor\u001b[0m \u001b[0menvkey\u001b[0m \u001b[0;32min\u001b[0m \u001b[0menv_added\u001b[0m\u001b[0;34m:\u001b[0m\u001b[0;34m\u001b[0m\u001b[0;34m\u001b[0m\u001b[0m\n",
      "\u001b[0;31mImportError\u001b[0m: \n\nIMPORTANT: PLEASE READ THIS FOR ADVICE ON HOW TO SOLVE THIS ISSUE!\n\nImporting the numpy C-extensions failed. This error can happen for\nmany reasons, often due to issues with your setup or how NumPy was\ninstalled.\n\nWe have compiled some common reasons and troubleshooting tips at:\n\n    https://numpy.org/devdocs/user/troubleshooting-importerror.html\n\nPlease note and check the following:\n\n  * The Python version is: Python3.9 from \"/Users/hazelwat/miniforge3/envs/pyAIsense/bin/python\"\n  * The NumPy version is: \"1.19.5\"\n\nand make sure that they are the versions you expect.\nPlease carefully study the documentation linked above for further help.\n\nOriginal error was: dlopen(/Users/hazelwat/miniforge3/envs/pyAIsense/lib/python3.9/site-packages/numpy/core/_multiarray_umath.cpython-39-darwin.so, 0x0002): Library not loaded: @rpath/libcblas.3.dylib\n  Referenced from: /Users/hazelwat/miniforge3/envs/pyAIsense/lib/python3.9/site-packages/numpy/core/_multiarray_umath.cpython-39-darwin.so\n  Reason: tried: '/Users/hazelwat/miniforge3/envs/pyAIsense/lib/libcblas.3.dylib' (no such file), '/Users/hazelwat/miniforge3/envs/pyAIsense/lib/libcblas.3.dylib' (no such file), '/Users/hazelwat/miniforge3/envs/pyAIsense/lib/python3.9/site-packages/numpy/core/../../../../libcblas.3.dylib' (no such file), '/Users/hazelwat/miniforge3/envs/pyAIsense/lib/libcblas.3.dylib' (no such file), '/Users/hazelwat/miniforge3/envs/pyAIsense/lib/libcblas.3.dylib' (no such file), '/Users/hazelwat/miniforge3/envs/pyAIsense/lib/python3.9/site-packages/numpy/core/../../../../libcblas.3.dylib' (no such file), '/Users/hazelwat/miniforge3/envs/pyAIsense/lib/libcblas.3.dylib' (no such file), '/Users/hazelwat/miniforge3/envs/pyAIsense/bin/../lib/libcblas.3.dylib' (no such file), '/Users/hazelwat/miniforge3/envs/pyAIsense/lib/libcblas.3.dylib' (no such file), '/Users/hazelwat/miniforge3/envs/pyAIsense/bin/../lib/libcblas.3.dylib' (no such file), '/usr/local/lib/libcblas.3.dylib' (no such file), '/usr/lib/libcblas.3.dylib' (no such file)\n"
     ]
    }
   ],
   "source": [
    "import numpy as np"
   ]
  },
  {
   "cell_type": "code",
   "execution_count": 3,
   "id": "5f097f4d",
   "metadata": {},
   "outputs": [
    {
     "name": "stdout",
     "output_type": "stream",
     "text": [
      "Collecting numpy\n",
      "  Using cached numpy-1.21.4-cp39-cp39-macosx_11_0_arm64.whl (12.4 MB)\n",
      "Installing collected packages: numpy\n",
      "  Attempting uninstall: numpy\n",
      "    Found existing installation: numpy 1.19.5\n",
      "    Uninstalling numpy-1.19.5:\n",
      "      Successfully uninstalled numpy-1.19.5\n",
      "Successfully installed numpy-1.21.4\n",
      "Note: you may need to restart the kernel to use updated packages.\n"
     ]
    }
   ],
   "source": [
    "pip install --upgrade --force-reinstall numpy"
   ]
  },
  {
   "cell_type": "code",
   "execution_count": 1,
   "id": "d5a329b4",
   "metadata": {},
   "outputs": [],
   "source": [
    "import numpy as np"
   ]
  },
  {
   "cell_type": "code",
   "execution_count": 2,
   "id": "0a57cca1",
   "metadata": {},
   "outputs": [],
   "source": [
    "import pandas as pd"
   ]
  },
  {
   "cell_type": "code",
   "execution_count": 3,
   "id": "450d84b0",
   "metadata": {},
   "outputs": [
    {
     "name": "stdout",
     "output_type": "stream",
     "text": [
      "Num GPUs Available:  1\n"
     ]
    }
   ],
   "source": [
    "import tensorflow as tf\n",
    "print(\"Num GPUs Available: \", len(tf.config.experimental.list_physical_devices('GPU')))"
   ]
  },
  {
   "cell_type": "code",
   "execution_count": 6,
   "id": "7649cb88",
   "metadata": {},
   "outputs": [
    {
     "name": "stdout",
     "output_type": "stream",
     "text": [
      "TensorFlow version: 2.7.0\n",
      "Num GPUs Available:  1\n"
     ]
    },
    {
     "data": {
      "text/plain": [
       "[PhysicalDevice(name='/physical_device:GPU:0', device_type='GPU')]"
      ]
     },
     "execution_count": 6,
     "metadata": {},
     "output_type": "execute_result"
    }
   ],
   "source": [
    "import tensorflow as tf\n",
    "import tensorflow_datasets as tfds\n",
    "print(\"TensorFlow version:\", tf.__version__)\n",
    "print(\"Num GPUs Available: \", len(tf.config.experimental.list_physical_devices('GPU')))\n",
    "tf.config.list_physical_devices('GPU')"
   ]
  },
  {
   "cell_type": "code",
   "execution_count": 5,
   "id": "adf56c55",
   "metadata": {},
   "outputs": [
    {
     "name": "stdout",
     "output_type": "stream",
     "text": [
      "Collecting tensorflow_datasets\n",
      "  Using cached tensorflow_datasets-4.4.0-py3-none-any.whl (4.0 MB)\n",
      "Requirement already satisfied: absl-py in /Users/hazelwat/miniforge3/envs/pyAIsense/lib/python3.9/site-packages (from tensorflow_datasets) (0.10.0)\n",
      "Requirement already satisfied: protobuf>=3.12.2 in /Users/hazelwat/miniforge3/envs/pyAIsense/lib/python3.9/site-packages (from tensorflow_datasets) (3.17.2)\n",
      "Requirement already satisfied: numpy in /Users/hazelwat/miniforge3/envs/pyAIsense/lib/python3.9/site-packages (from tensorflow_datasets) (1.21.4)\n",
      "Requirement already satisfied: six in /Users/hazelwat/miniforge3/envs/pyAIsense/lib/python3.9/site-packages (from tensorflow_datasets) (1.15.0)\n",
      "Collecting tqdm\n",
      "  Using cached tqdm-4.62.3-py2.py3-none-any.whl (76 kB)\n",
      "Collecting dill\n",
      "  Using cached dill-0.3.4-py2.py3-none-any.whl (86 kB)\n",
      "Collecting tensorflow-metadata\n",
      "  Using cached tensorflow_metadata-1.5.0-py3-none-any.whl (48 kB)\n",
      "Requirement already satisfied: attrs>=18.1.0 in /Users/hazelwat/miniforge3/envs/pyAIsense/lib/python3.9/site-packages (from tensorflow_datasets) (21.2.0)\n",
      "Collecting promise\n",
      "  Using cached promise-2.3-py3-none-any.whl\n",
      "Collecting future\n",
      "  Using cached future-0.18.2-py3-none-any.whl\n",
      "Requirement already satisfied: termcolor in /Users/hazelwat/miniforge3/envs/pyAIsense/lib/python3.9/site-packages (from tensorflow_datasets) (1.1.0)\n",
      "Requirement already satisfied: requests>=2.19.0 in /Users/hazelwat/miniforge3/envs/pyAIsense/lib/python3.9/site-packages (from tensorflow_datasets) (2.26.0)\n",
      "Requirement already satisfied: urllib3<1.27,>=1.21.1 in /Users/hazelwat/miniforge3/envs/pyAIsense/lib/python3.9/site-packages (from requests>=2.19.0->tensorflow_datasets) (1.26.7)\n",
      "Requirement already satisfied: charset-normalizer~=2.0.0 in /Users/hazelwat/miniforge3/envs/pyAIsense/lib/python3.9/site-packages (from requests>=2.19.0->tensorflow_datasets) (2.0.4)\n",
      "Requirement already satisfied: certifi>=2017.4.17 in /Users/hazelwat/miniforge3/envs/pyAIsense/lib/python3.9/site-packages (from requests>=2.19.0->tensorflow_datasets) (2021.10.8)\n",
      "Requirement already satisfied: idna<4,>=2.5 in /Users/hazelwat/miniforge3/envs/pyAIsense/lib/python3.9/site-packages (from requests>=2.19.0->tensorflow_datasets) (3.3)\n",
      "Collecting googleapis-common-protos<2,>=1.52.0\n",
      "  Using cached googleapis_common_protos-1.53.0-py2.py3-none-any.whl (198 kB)\n",
      "Installing collected packages: googleapis-common-protos, tqdm, tensorflow-metadata, promise, future, dill, tensorflow-datasets\n",
      "Successfully installed dill-0.3.4 future-0.18.2 googleapis-common-protos-1.53.0 promise-2.3 tensorflow-datasets-4.4.0 tensorflow-metadata-1.5.0 tqdm-4.62.3\n",
      "Note: you may need to restart the kernel to use updated packages.\n"
     ]
    }
   ],
   "source": [
    "pip install tensorflow_datasets"
   ]
  },
  {
   "cell_type": "code",
   "execution_count": 10,
   "id": "657d2240",
   "metadata": {},
   "outputs": [
    {
     "name": "stderr",
     "output_type": "stream",
     "text": [
      "2021-12-06 16:35:06.276542: I tensorflow/core/common_runtime/pluggable_device/pluggable_device_factory.cc:305] Could not identify NUMA node of platform GPU ID 0, defaulting to 0. Your kernel may not have been built with NUMA support.\n",
      "2021-12-06 16:35:06.277537: I tensorflow/core/common_runtime/pluggable_device/pluggable_device_factory.cc:271] Created TensorFlow device (/job:localhost/replica:0/task:0/device:GPU:0 with 0 MB memory) -> physical PluggableDevice (device: 0, name: METAL, pci bus id: <undefined>)\n"
     ]
    },
    {
     "name": "stdout",
     "output_type": "stream",
     "text": [
      "Metal device set to: Apple M1\n",
      "Epoch 1/12\n"
     ]
    },
    {
     "name": "stderr",
     "output_type": "stream",
     "text": [
      "2021-12-06 16:35:06.949628: W tensorflow/core/platform/profile_utils/cpu_utils.cc:128] Failed to get CPU frequency: 0 Hz\n",
      "2021-12-06 16:35:06.950274: I tensorflow/core/grappler/optimizers/custom_graph_optimizer_registry.cc:112] Plugin optimizer for device_type GPU is enabled.\n"
     ]
    },
    {
     "name": "stdout",
     "output_type": "stream",
     "text": [
      "467/469 [============================>.] - ETA: 0s - loss: 0.1487 - accuracy: 0.9548"
     ]
    },
    {
     "name": "stderr",
     "output_type": "stream",
     "text": [
      "2021-12-06 16:35:17.015693: I tensorflow/core/grappler/optimizers/custom_graph_optimizer_registry.cc:112] Plugin optimizer for device_type GPU is enabled.\n"
     ]
    },
    {
     "name": "stdout",
     "output_type": "stream",
     "text": [
      "469/469 [==============================] - 11s 20ms/step - loss: 0.1483 - accuracy: 0.9549 - val_loss: 0.0572 - val_accuracy: 0.9799\n",
      "Epoch 2/12\n",
      "469/469 [==============================] - 9s 20ms/step - loss: 0.0447 - accuracy: 0.9862 - val_loss: 0.0400 - val_accuracy: 0.9870\n",
      "Epoch 3/12\n",
      "469/469 [==============================] - 9s 19ms/step - loss: 0.0286 - accuracy: 0.9913 - val_loss: 0.0355 - val_accuracy: 0.9872\n",
      "Epoch 4/12\n",
      "469/469 [==============================] - 9s 19ms/step - loss: 0.0193 - accuracy: 0.9934 - val_loss: 0.0391 - val_accuracy: 0.9872\n",
      "Epoch 5/12\n",
      "469/469 [==============================] - 9s 19ms/step - loss: 0.0148 - accuracy: 0.9952 - val_loss: 0.0461 - val_accuracy: 0.9862\n",
      "Epoch 6/12\n",
      "469/469 [==============================] - 9s 19ms/step - loss: 0.0110 - accuracy: 0.9964 - val_loss: 0.0385 - val_accuracy: 0.9880\n",
      "Epoch 7/12\n",
      "469/469 [==============================] - 9s 19ms/step - loss: 0.0071 - accuracy: 0.9977 - val_loss: 0.0377 - val_accuracy: 0.9886\n",
      "Epoch 8/12\n",
      "469/469 [==============================] - 9s 19ms/step - loss: 0.0074 - accuracy: 0.9974 - val_loss: 0.0424 - val_accuracy: 0.9888\n",
      "Epoch 9/12\n",
      "469/469 [==============================] - 9s 19ms/step - loss: 0.0046 - accuracy: 0.9983 - val_loss: 0.0524 - val_accuracy: 0.9877\n",
      "Epoch 10/12\n",
      "469/469 [==============================] - 9s 19ms/step - loss: 0.0084 - accuracy: 0.9973 - val_loss: 0.0394 - val_accuracy: 0.9893\n",
      "Epoch 11/12\n",
      "469/469 [==============================] - 9s 19ms/step - loss: 0.0033 - accuracy: 0.9988 - val_loss: 0.0445 - val_accuracy: 0.9887\n",
      "Epoch 12/12\n",
      "469/469 [==============================] - 9s 19ms/step - loss: 0.0043 - accuracy: 0.9984 - val_loss: 0.0535 - val_accuracy: 0.9881\n"
     ]
    },
    {
     "data": {
      "text/plain": [
       "<keras.callbacks.History at 0x165443c40>"
      ]
     },
     "execution_count": 10,
     "metadata": {},
     "output_type": "execute_result"
    }
   ],
   "source": [
    "(ds_train, ds_test), ds_info = tfds.load(\n",
    "    'mnist',\n",
    "    split=['train', 'test'],\n",
    "    shuffle_files=True,\n",
    "    as_supervised=True,\n",
    "    with_info=True,\n",
    ")\n",
    "\n",
    "def normalize_img(image, label):\n",
    "  \"\"\"Normalizes images: `uint8` -> `float32`.\"\"\"\n",
    "  return tf.cast(image, tf.float32) / 255., label\n",
    "\n",
    "batch_size = 128\n",
    "\n",
    "ds_train = ds_train.map(\n",
    "    normalize_img, num_parallel_calls=tf.data.experimental.AUTOTUNE)\n",
    "ds_train = ds_train.cache()\n",
    "ds_train = ds_train.shuffle(ds_info.splits['train'].num_examples)\n",
    "ds_train = ds_train.batch(batch_size)\n",
    "ds_train = ds_train.prefetch(tf.data.experimental.AUTOTUNE)\n",
    "ds_test = ds_test.map(\n",
    "    normalize_img, num_parallel_calls=tf.data.experimental.AUTOTUNE)\n",
    "ds_test = ds_test.batch(batch_size)\n",
    "ds_test = ds_test.cache()\n",
    "ds_test = ds_test.prefetch(tf.data.experimental.AUTOTUNE)\n",
    "\n",
    "model = tf.keras.models.Sequential([\n",
    "  tf.keras.layers.Conv2D(32, kernel_size=(3, 3),\n",
    "                 activation='relu'),\n",
    "  tf.keras.layers.Conv2D(64, kernel_size=(3, 3),\n",
    "                 activation='relu'),\n",
    "  tf.keras.layers.MaxPooling2D(pool_size=(2, 2)),\n",
    "#   tf.keras.layers.Dropout(0.25),\n",
    "  tf.keras.layers.Flatten(),\n",
    "  tf.keras.layers.Dense(128, activation='relu'),\n",
    "#   tf.keras.layers.Dropout(0.5),\n",
    "  tf.keras.layers.Dense(10, activation='softmax')\n",
    "])\n",
    "\n",
    "model.compile(\n",
    "    loss='sparse_categorical_crossentropy',\n",
    "    optimizer=tf.keras.optimizers.Adam(0.001),\n",
    "    metrics=['accuracy'],\n",
    ")\n",
    "\n",
    "model.fit(\n",
    "    ds_train,\n",
    "    epochs=12,\n",
    "    validation_data=ds_test,\n",
    ")"
   ]
  },
  {
   "cell_type": "code",
   "execution_count": null,
   "id": "c7d13160",
   "metadata": {},
   "outputs": [],
   "source": []
  }
 ],
 "metadata": {
  "kernelspec": {
   "display_name": "pyAIsense_env",
   "language": "python",
   "name": "pyaisense"
  },
  "language_info": {
   "codemirror_mode": {
    "name": "ipython",
    "version": 3
   },
   "file_extension": ".py",
   "mimetype": "text/x-python",
   "name": "python",
   "nbconvert_exporter": "python",
   "pygments_lexer": "ipython3",
   "version": "3.9.7"
  }
 },
 "nbformat": 4,
 "nbformat_minor": 5
}
